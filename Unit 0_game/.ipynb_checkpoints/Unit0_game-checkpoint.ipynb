{
 "cells": [
  {
   "cell_type": "code",
   "execution_count": null,
   "metadata": {},
   "outputs": [],
   "source": [
    "\n",
    "def game (M): ## сама игра\n",
    " def turning (M): ## функция , принимающая ход у игороков\n",
    "    row=int(input ('введите строку от 1 до 3:')) \n",
    "    column=int(input ('введите колонку от 1 до 3:'))  \n",
    "    if M[row][column]=='-': \n",
    "      M[row][column]=n\n",
    "      return (M,row,column)\n",
    "    else:\n",
    "        print (f'ячейка {row},{column} занята, поторите ход')\n",
    "        return turning (M)    \n",
    "\n",
    " for i in range (0,4): ## вывод игрового поля\n",
    "    #for j in range (0,3):\n",
    "        print (*M[i])\n",
    " turn=1\n",
    " while any('-'  in sub for sub in M):\n",
    "    if turn%2:\n",
    "      n='X'\n",
    "    else:\n",
    "      n='O' \n",
    "    print (f'ходит {n}')\n",
    "    M,i,j=turning (M)\n",
    "    ##while M[i][j]=='-':\n",
    "    ## i=int(input ('введите строку от 1 до 3')) \n",
    "    ## j=int(input ('введите колонку от 1 до 3'))  \n",
    "    ## if M[i][j]=='-': \n",
    "    ##  M[i][j]=n\n",
    "    ## else:\n",
    "    ##    print (f'ячейка {i}{j} занята, поторите ход')\n",
    "    K=[] ## список для данных проверки выигрыша по столбцу\n",
    "    L=[] ## список для данных проверки выигрыша по диагонали справа налево\n",
    "    S=[] ## список для данных для проверки выигрыша по диагонали слева направо \n",
    "    for z in range (1,4): ## вормируем данные для проверки столбцов и диагоналей\n",
    "     K.append (M[z][j])\n",
    "     L.append(M[z][z])\n",
    "     S.append (M[z][4-z])   \n",
    "    if any ([M[i]==[i,n,n,n], K==[n,n,n] , L==[n,n,n] , S==[n,n,n]]): ## проверяем  победил ли кто- то на этом ходе\n",
    "       for i in range (0,4): ## вывод игрового поля\n",
    "        print (*M[i]) \n",
    "       return ('Уррраа',n,'победил!!!!') \n",
    "    turn+=1\n",
    "    for i in range (0,4): ## вывод игрового поля\n",
    "        print (*M[i]) \n",
    " return ('Ничья!')\n",
    "        \n",
    "M=[ \n",
    "  [' ',1,2,3],\n",
    "  [1,'-','-','-'],\n",
    "  [2,'-','-','-'],\n",
    "  [3,'-','-','-'],\n",
    "] ## формирование игрового поля\n",
    "print (game(M)) ##запуск игры"
   ]
  },
  {
   "cell_type": "code",
   "execution_count": null,
   "metadata": {},
   "outputs": [],
   "source": []
  },
  {
   "cell_type": "markdown",
   "metadata": {},
   "source": [
    "# "
   ]
  }
 ],
 "metadata": {
  "kernelspec": {
   "display_name": "Python 3",
   "language": "python",
   "name": "python3"
  },
  "language_info": {
   "codemirror_mode": {
    "name": "ipython",
    "version": 3
   },
   "file_extension": ".py",
   "mimetype": "text/x-python",
   "name": "python",
   "nbconvert_exporter": "python",
   "pygments_lexer": "ipython3",
   "version": "3.8.5"
  }
 },
 "nbformat": 4,
 "nbformat_minor": 4
}
