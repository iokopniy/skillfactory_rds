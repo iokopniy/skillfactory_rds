{
 "cells": [
  {
   "cell_type": "code",
   "execution_count": null,
   "metadata": {},
   "outputs": [],
   "source": [
    "import pandas as pd\n",
    "import pandas as pd\n",
    "import matplotlib.pyplot as plt\n",
    "import seaborn as sns\n",
    "from itertools import combinations\n",
    "from scipy.stats import ttest_ind\n",
    "import numpy as np\n",
    "import warnings\n",
    "import random\n",
    "import ast \n",
    "import datetime \n",
    "warnings.simplefilter('ignore')\n",
    "import grequests\n",
    "from bs4 import BeautifulSoup as BS\n",
    "from lxml import html\n",
    "pd.set_option('display.max_rows', 50)  # показывать больше строк\n",
    "pd.set_option('display.max_columns', 50)  # показывать больше колонок\n",
    "\n",
    "# Добавим метод чтобы красиво отобржать текст\n",
    "from IPython.display import Markdown, display\n",
    "\n",
    "def printmd(string):\n",
    "    display(Markdown(string))\n",
    "    \n",
    "df = pd.read_csv('main_task_new.csv')"
   ]
  },
  {
   "cell_type": "code",
   "execution_count": null,
   "metadata": {},
   "outputs": [],
   "source": [
    "def get_data (link):\n",
    " url = 'https://www.tripadvisor.ru'+link\n",
    " with grequests.Session() as session:\n",
    "   session.headers['Accept'] = 'text/html,application/xhtml+xml,application/xml;q=0.9,*/*;q=0.8'\n",
    "   session.headers['User-Agent'] = 'Mozilla/5.0 (Windows NT 10.0; Win64; x64) AppleWebKit/537.36 ' \\\n",
    "                                        '(KHTML, like Gecko) Chrome/91.0.4472.164 Safari/537.36'\n",
    "   try:\n",
    "     resp = session.get(url, timeout=10)\n",
    "     soup = BS(resp.content, 'lxml')\n",
    "   except:\n",
    "     print('no connection/empty data')\n",
    " try:\n",
    "  money = str(soup.find(class_='_2mn01bsa').contents[0])\n",
    " except:\n",
    "  money=None  \n",
    " try:\n",
    "  cuisine = soup.find('div',class_='ppr_rup ppr_priv_enable_cpm_desktop')\n",
    " #print (str(cuisine).find('cuisine'))\n",
    " #cuisine = soup.find('div', {'class': ['_60ofm15k', '_1XLfiSsv']}).contents\n",
    " #a=str(cuisine).find('cuisine')\n",
    "  cous=str(cuisine)[str(cuisine).find('cuisine'):]\n",
    " #print (cous[cous.find('['):(cous.find(']')+1)])\n",
    "  cousines=cous[cous.find('['):(cous.find(']')+1)]\n",
    " except:\n",
    "  cousines=None\n",
    " #try:\n",
    " # tot_count=str(resp.content)[str(resp.content).find('totalCount'):]\n",
    " # tot_count=tot_count[tot_count.find(':')+1:tot_count.find(',')]\n",
    " #except:\n",
    " # tot_count=None\n",
    " #try:\n",
    " # rev_count=str(resp.content)[str(resp.content).find('reviewSummary'):]\n",
    " # rev_count=rev_count[rev_count.find('\"count\":')+8:rev_count.find(',')]\n",
    " #except:\n",
    " # rev_count=0  \n",
    "\n",
    " #print (money,cousines,tot_count,rev_count)\n",
    " return money,cousines\n",
    " #.contents[0]"
   ]
  },
  {
   "cell_type": "code",
   "execution_count": null,
   "metadata": {},
   "outputs": [],
   "source": [
    "k=0\n",
    "for i in range (0,len(df)-1):\n",
    "            \n",
    "    if pd.isna(df.loc[i,'Cuisine Style']):\n",
    "        df.loc[i,['Price Range','Cuisine Style']]=get_data(df.loc[i,'URL_TA'])\n",
    "        k+=1\n",
    "    if k==10:\n",
    "        df.loc[0,'proc_count']==i\n",
    "        df.to_csv('main_task_enriched_Price_Cuisine.csv')\n",
    "        print ('saving point')\n",
    "        k=0"
   ]
  }
 ],
 "metadata": {
  "kernelspec": {
   "display_name": "Python 3",
   "language": "python",
   "name": "python3"
  },
  "language_info": {
   "codemirror_mode": {
    "name": "ipython",
    "version": 3
   },
   "file_extension": ".py",
   "mimetype": "text/x-python",
   "name": "python",
   "nbconvert_exporter": "python",
   "pygments_lexer": "ipython3",
   "version": "3.8.5"
  }
 },
 "nbformat": 4,
 "nbformat_minor": 4
}
